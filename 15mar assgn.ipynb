{
 "cells": [
  {
   "cell_type": "markdown",
   "id": "b1f71e0e-bc7f-4618-bfc8-02734cf22547",
   "metadata": {},
   "source": [
    "1ans:\n",
    "\n",
    " Artificial Intelligence\n",
    " \n",
    "AI refers to the ability of machines or computer programs to perform tasks that would typically require human intelligence, such as recognizing speech, making decisions, or identifying patterns in data. An example of AI is a virtual assistant like Siri or Alexa, which can answer questions, provide recommendations, and even control smart home devices through voice commands.\n",
    "\n",
    "Machine Learning\n",
    "\n",
    "Machine learning is a subset of AI that involves training algorithms to recognize patterns in data and make decisions or predictions based on that data. An example of machine learning is a spam filter that uses an algorithm to recognize patterns in email messages and automatically filter out messages that are likely to be spam.\n",
    "\n",
    "Deep Learning\n",
    "\n",
    "Deep learning is a subset of machine learning that involves training artificial neural networks with multiple layers to recognize complex patterns in data. An example of deep learning is image recognition software that can identify objects in photos or videos, such as recognizing faces or identifying specific types of animals."
   ]
  },
  {
   "cell_type": "markdown",
   "id": "a55d9706-b87f-4c19-ba63-249a12db08a1",
   "metadata": {},
   "source": [
    "2ans:\n",
    "    \n",
    " Supervised learning is a type of machine learning where an algorithm is trained on a labeled dataset, meaning that the desired output or \"label\" is already known for each input example. The algorithm learns to make predictions or decisions based on the labeled examples it is trained on, and can then be used to make predictions on new, unlabeled data.\n",
    " \n",
    " examples of supervised learning:\n",
    " \n",
    " Fraud detection - an algorithm is trained on a dataset of labeled transactions to identify patterns or features associated with fraudulent transactions, and can then be used to flag potentially fraudulent transactions in real-time.\n",
    "\n",
    "Speech recognition - an algorithm is trained on a dataset of labeled audio files to transcribe speech into text, such as enabling voice commands for virtual assistants or transcription services.\n",
    "\n",
    "Recommendation systems - an algorithm is trained on a dataset of labeled user behavior, such as movie ratings or product purchases, to make personalized recommendations for new items or content that the user may be interested in."
   ]
  },
  {
   "cell_type": "markdown",
   "id": "6b94346a-81c1-4173-860d-f821e425f07a",
   "metadata": {},
   "source": [
    "3ans:\n",
    "\n",
    "Unsupervised learning is a type of machine learning where an algorithm is trained on an unlabeled dataset, meaning that there are no pre-defined output values or labels. The goal of unsupervised learning is to identify patterns or relationships within the data, without any prior knowledge or guidance.\n",
    "\n",
    "examples of unsupervised learning are\n",
    "\n",
    "1.clustering\n",
    "2.association"
   ]
  },
  {
   "cell_type": "markdown",
   "id": "6b0d7686-7ad6-4a7b-a8fb-d222de8f6356",
   "metadata": {},
   "source": [
    "4ans:\n",
    "\n",
    "AI (Artificial Intelligence): AI refers to the development of computer systems that can perform tasks that typically require human intelligence, such as perception, reasoning, learning, and decision making.\n",
    "\n",
    "ML (Machine Learning): ML is a subset of AI that involves the use of algorithms to automatically learn patterns in data and make predictions or decisions without being explicitly programmed. It relies on statistical techniques and algorithms to learn from data.\n",
    "\n",
    "DL (Deep Learning): DL is a subset of ML that uses artificial neural networks with many layers to learn from large amounts of data. It is particularly useful in tasks such as image and speech recognition, natural language processing, and autonomous driving.\n",
    "\n",
    "DS (Data Science): DS is an interdisciplinary field that involves extracting insights and knowledge from data through statistical and computational methods. It involves the use of various techniques, including ML and DL, to analyze and interpret data."
   ]
  },
  {
   "cell_type": "markdown",
   "id": "3dc5a73c-2130-4a9b-ac8f-991492e08db8",
   "metadata": {},
   "source": [
    "5ans:\n",
    "\n",
    "The main differences between supervised, unsupervised, and semi-supervised learning are:\n",
    "\n",
    "Supervised Learning: In supervised learning, the algorithm is provided with a labeled dataset, where each example has a corresponding target variable or output. The goal is to learn a function that can map inputs to outputs accurately. During training, the algorithm adjusts its parameters to minimize the difference between the predicted output and the actual output. Common examples of supervised learning include classification and regression problems.\n",
    "\n",
    "Unsupervised Learning: In unsupervised learning, the algorithm is provided with an unlabeled dataset, where there is no corresponding target variable or output. The goal is to find patterns or structure in the data. The algorithm tries to identify relationships between data points and group them based on similarities. Common examples of unsupervised learning include clustering, dimensionality reduction, and anomaly detection.\n",
    "\n",
    "Semi-Supervised Learning: In semi-supervised learning, the algorithm is provided with both labeled and unlabeled data. The goal is to use the labeled data to guide the learning process and improve the accuracy of the model. Semi-supervised learning can be useful when obtaining labeled data is expensive or time-consuming. The algorithm can use the small amount of labeled data to improve the performance on the larger set of unlabeled data"
   ]
  },
  {
   "cell_type": "markdown",
   "id": "cca59043-779d-4dd9-800e-fb620cd13aa6",
   "metadata": {},
   "source": [
    "6ans:\n",
    "\n",
    "Training Set: The training set is used to train the model, meaning that the model's parameters are adjusted to minimize the error on this set. The more diverse and representative the training set is, the better the model will perform on new, unseen data.\n",
    "\n",
    "Validation Set: The validation set is used to tune the model's hyperparameters, which are the parameters that are not learned during training, such as the learning rate or regularization strength. The model's performance on the validation set is used to choose the best set of hyperparameters that result in the highest accuracy or lowest error on this set.\n",
    "\n",
    "Test Set: The test set is used to evaluate the final performance of the model. This set should be kept completely separate from the training and validation sets and should only be used once to avoid overfitting to the test set. The test set is used to estimate the performance of the model on new, unseen data.\n",
    "\n"
   ]
  },
  {
   "cell_type": "markdown",
   "id": "b15662f2-0837-438e-b70a-91a58b5512a1",
   "metadata": {},
   "source": [
    "7ans:\n",
    "  \n",
    "Unsupervised learning can be used in anomaly detection by identifying patterns or behaviors in the data that are different from the norm or majority. Anomalies can be defined as data points that are significantly different from the expected behavior or patterns in the dataset. Unsupervised learning algorithms can identify these anomalies by clustering the data points into groups and identifying any data points that do not fit into any of these clusters."
   ]
  },
  {
   "cell_type": "markdown",
   "id": "5dd5821f-2578-47fe-b6d5-b91013338864",
   "metadata": {},
   "source": [
    "8ans:\n",
    "\n"
   ]
  }
 ],
 "metadata": {
  "kernelspec": {
   "display_name": "Python 3 (ipykernel)",
   "language": "python",
   "name": "python3"
  },
  "language_info": {
   "codemirror_mode": {
    "name": "ipython",
    "version": 3
   },
   "file_extension": ".py",
   "mimetype": "text/x-python",
   "name": "python",
   "nbconvert_exporter": "python",
   "pygments_lexer": "ipython3",
   "version": "3.10.8"
  }
 },
 "nbformat": 4,
 "nbformat_minor": 5
}
